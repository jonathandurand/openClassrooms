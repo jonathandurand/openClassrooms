{
 "cells": [
  {
   "cell_type": "code",
   "execution_count": null,
   "id": "83026125-1e23-4ba9-a71b-03dafaafccec",
   "metadata": {},
   "outputs": [],
   "source": []
  }
 ],
 "metadata": {
  "kernelspec": {
   "display_name": "",
   "name": ""
  },
  "language_info": {
   "name": ""
  }
 },
 "nbformat": 4,
 "nbformat_minor": 5
}
