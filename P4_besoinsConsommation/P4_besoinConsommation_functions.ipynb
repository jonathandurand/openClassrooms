{
 "cells": [
  {
   "cell_type": "markdown",
   "id": "77342112-fb65-4034-8f38-28df6b751bc3",
   "metadata": {},
   "source": [
    "# Projet 4 : Anticipez les besoins en consommation de bâtiments\n",
    "Date début : 12/12/2024"
   ]
  },
  {
   "cell_type": "markdown",
   "id": "7e4b8e47-11ce-4aeb-8f37-2a0d92b09c4d",
   "metadata": {
    "jp-MarkdownHeadingCollapsed": true
   },
   "source": [
    "# Importation des librairies utiles"
   ]
  },
  {
   "cell_type": "code",
   "execution_count": 1,
   "id": "c98ebda9-6435-4731-b58c-d796eb9cb231",
   "metadata": {},
   "outputs": [],
   "source": [
    "import os\n",
    "\n",
    "import numpy as np\n",
    "import pandas as pd\n",
    "\n",
    "import matplotlib.pyplot as plt\n",
    "from matplotlib import colormaps\n",
    "from matplotlib import colors\n",
    "from matplotlib.lines import Line2D\n",
    "from matplotlib.patches import Rectangle\n",
    "%matplotlib inline\n",
    "\n",
    "import seaborn as sns\n",
    "\n",
    "import math\n",
    "\n",
    "from sklearn.preprocessing import StandardScaler\n",
    "from sklearn.impute import KNNImputer\n",
    "from sklearn.decomposition import PCA\n",
    "from scipy.stats import chi2_contingency\n",
    "import statsmodels.formula.api as smf\n",
    "import statsmodels.api as sm\n",
    "\n",
    "import csv\n",
    "\n",
    "from scipy import stats\n",
    "\n",
    "import missingno as msno"
   ]
  },
  {
   "cell_type": "code",
   "execution_count": 2,
   "id": "d4787ea9-b44f-4c0f-9e75-9f7db0c250b1",
   "metadata": {},
   "outputs": [],
   "source": [
    "from sklearn import linear_model"
   ]
  },
  {
   "cell_type": "code",
   "execution_count": 3,
   "id": "ba96eeea-2cf0-4678-9bd4-c8686319a197",
   "metadata": {},
   "outputs": [],
   "source": [
    "from sklearn.svm import SVR"
   ]
  },
  {
   "cell_type": "code",
   "execution_count": 4,
   "id": "fa334d04-5eb4-4e01-b559-7ed4553f2f55",
   "metadata": {},
   "outputs": [],
   "source": [
    "from sklearn.ensemble import RandomForestRegressor"
   ]
  },
  {
   "cell_type": "code",
   "execution_count": 5,
   "id": "6ff24d6b-f926-4c98-9032-4a9dcbfb0e56",
   "metadata": {},
   "outputs": [],
   "source": [
    "from sklearn.ensemble import GradientBoostingRegressor"
   ]
  },
  {
   "cell_type": "code",
   "execution_count": 6,
   "id": "0ab52240-b490-47e3-a9f5-46425477ca89",
   "metadata": {},
   "outputs": [],
   "source": [
    "from sklearn.metrics import r2_score"
   ]
  },
  {
   "cell_type": "markdown",
   "id": "cf7cbf70-978f-4207-aa7b-352d84204ef4",
   "metadata": {
    "jp-MarkdownHeadingCollapsed": true
   },
   "source": [
    "# Prétraitement des données"
   ]
  },
  {
   "cell_type": "code",
   "execution_count": 7,
   "id": "f7eaea50-8ae4-4e0f-8e7f-49d7972fe9f2",
   "metadata": {},
   "outputs": [],
   "source": [
    "def normalize_y(y):\n",
    "    y_norm = np.log10(y)\n",
    "    sigma_y_norm = np.std(y_norm)\n",
    "    mu_y_norm = np.mean(y_norm)\n",
    "    return y_norm, sigma_y_norm, mu_y_norm"
   ]
  },
  {
   "cell_type": "code",
   "execution_count": 8,
   "id": "003835d7-592b-48a0-a6ea-89d557651749",
   "metadata": {},
   "outputs": [],
   "source": [
    "def std_x(X_train, X_test):\n",
    "    std_scale = StandardScaler().fit(X_train)\n",
    "    X_train_std = std_scale.transform(X_train)\n",
    "    X_test_std = std_scale.transform(X_test)\n",
    "    return X_train_std, X_test_std"
   ]
  },
  {
   "cell_type": "markdown",
   "id": "a7a7532e-d343-4f38-a0b1-a3ea666780be",
   "metadata": {
    "jp-MarkdownHeadingCollapsed": true
   },
   "source": [
    "# Prédiction"
   ]
  },
  {
   "cell_type": "code",
   "execution_count": 9,
   "id": "3420e109-f3ed-4b00-a96d-abf23221a9fd",
   "metadata": {},
   "outputs": [],
   "source": [
    "def calcul_predict(X, predictor, mode=None, s_int=None):\n",
    "    if(mode=='norm'):\n",
    "        y = np.power(10,predictor.predict(X))\n",
    "    elif(mode=='int'):\n",
    "        y = predictor.predict(X)*s_int\n",
    "    else:\n",
    "        y = predictor.predict(X)\n",
    "    return y"
   ]
  },
  {
   "cell_type": "code",
   "execution_count": 10,
   "id": "ab59cbaa-7277-43af-a5a0-b97821c64ca3",
   "metadata": {},
   "outputs": [],
   "source": [
    "def prediction_reglinear(X_train, y_train, X_test, mode=None, s_int_train=None, s_int_test=None):\n",
    "    lr = linear_model.LinearRegression()\n",
    "    lr.fit(X_train,y_train)\n",
    "    y_pred_train = calcul_predict(X_train, lr, mode, s_int_train)\n",
    "    y_pred_test = calcul_predict(X_test, lr, mode, s_int_test)\n",
    "    return y_pred_train, y_pred_test, lr"
   ]
  },
  {
   "cell_type": "code",
   "execution_count": 11,
   "id": "2968e740-59c5-4179-820d-2e32664d3950",
   "metadata": {},
   "outputs": [],
   "source": [
    "def prediction_clf(model, X_train, y_train, X_test, param_grid, score, mode=None, s_int_train=None, s_int_test=None):\n",
    "    clf = model_selection.GridSearchCV(\n",
    "        model,\n",
    "        param_grid,\n",
    "        cv=5,\n",
    "        scoring=score\n",
    "    )\n",
    "    clf.fit(X_train, y_train)\n",
    "    y_pred_train = calcul_predict(X_train, clf, mode, s_int_train)\n",
    "    y_pred_test = calcul_predict(X_test, clf, mode, s_int_test)\n",
    "    return y_pred_train, y_pred_test, clf"
   ]
  },
  {
   "cell_type": "code",
   "execution_count": 12,
   "id": "479f35bc-d5ab-4934-8917-eae13effb5a1",
   "metadata": {},
   "outputs": [],
   "source": [
    "def prediction_L(X_train, y_train, X_test, param_grid_dict, score, mode=None, s_int_train=None, s_int_test=None):\n",
    "    Y_test = pd.DataFrame()\n",
    "    Y_train = pd.DataFrame()\n",
    "    clf_dict={}\n",
    "\n",
    "    Y_train['baseline'], Y_test['baseline'], lr = prediction_reglinear(X_train, y_train, X_test, mode, s_int_train, s_int_test)\n",
    "\n",
    "    Y_train['ridge'], Y_test['ridge'], clf_dict['ridge'] = \\\n",
    "        prediction_clf(linear_model.Ridge(), X_train, y_train, X_test, param_grid_dict['ridge'], score, mode, s_int_train, s_int_test)\n",
    "\n",
    "    Y_train['lasso'], Y_test['lasso'], clf_dict['lasso'] = \\\n",
    "        prediction_clf(linear_model.Lasso(), X_train, y_train, X_test, param_grid_dict['lasso'], score, mode, s_int_train, s_int_test)\n",
    "\n",
    "    Y_train['EN'], Y_test['EN'], clf_dict['EN'] = \\\n",
    "        prediction_clf(linear_model.ElasticNet(), X_train, y_train, X_test, param_grid_dict['EN'], score, mode, s_int_train, s_int_test)\n",
    "\n",
    "    return Y_train, Y_test, lr, clf_dict"
   ]
  },
  {
   "cell_type": "code",
   "execution_count": 13,
   "id": "656d8c65-61c3-4423-a7e0-f8b4eb97e21e",
   "metadata": {},
   "outputs": [],
   "source": [
    "def prediction_NL(X_train, y_train, X_test, param_grid_dict, score, Y_test, Y_train, clf_dict, mode=None, s_int_train=None, s_int_test=None):\n",
    "    Y_train['SVR'], Y_test['SVR'], clf_dict['SVR'] = \\\n",
    "        prediction_clf(SVR(tol=10, max_iter=2000), X_train, y_train, X_test, param_grid_dict['SVR'], score, mode, s_int_train, s_int_test)\n",
    "\n",
    "    Y_train['RFR'], Y_test['RFR'], clf_dict['RFR'] = \\\n",
    "        prediction_clf(RandomForestRegressor(), X_train, y_train, X_test, param_grid_dict['RFR'], score, mode, s_int_train, s_int_test)\n",
    "\n",
    "    Y_train['GBR'], Y_test['GBR'], clf_dict['GBR'] = \\\n",
    "        prediction_clf(GradientBoostingRegressor(), X_train, y_train, X_test, param_grid_dict['GBR'], score, mode, s_int_train, s_int_test)\n",
    "\n",
    "    return Y_train, Y_test, clf_dict"
   ]
  },
  {
   "cell_type": "code",
   "execution_count": 14,
   "id": "52c431bb-289f-458c-ac4f-e5ce772dad96",
   "metadata": {},
   "outputs": [],
   "source": [
    "def prediction_tot(X_train, y_train, X_test, param_grid_dict, score, mode=None, s_int_train=None, s_int_test=None):\n",
    "    Y_train, Y_test, lr, clf_dict = prediction_L(X_train, y_train, X_test, param_grid_dict, score, mode, s_int_train, s_int_test)\n",
    "    Y_train, Y_test, clf_dict = prediction_NL(X_train, y_train, X_test, param_grid_dict, score, Y_test, Y_train, clf_dict,\n",
    "                                              mode, s_int_train, s_int_test)\n",
    "    return Y_train, Y_test, lr, clf_dict"
   ]
  },
  {
   "cell_type": "markdown",
   "id": "bd1644ac-75d4-47f9-b415-c95f13856f2b",
   "metadata": {
    "jp-MarkdownHeadingCollapsed": true
   },
   "source": [
    "# Calcul des indicateurs"
   ]
  },
  {
   "cell_type": "code",
   "execution_count": 15,
   "id": "d3f164e1-fce3-4a1c-8c5c-f1cadbbdb9ba",
   "metadata": {},
   "outputs": [],
   "source": [
    "def calcul_sqrt_RMSE(name_models, category_names, Y_dict, y_test):\n",
    "    model_std = pd.DataFrame(data=name_models, columns=['Model'])\n",
    "    for string in category_names:\n",
    "        nb_nan = len(name_models)-len(Y_dict[string].columns)\n",
    "        model_std[string] = np.concatenate((np.sqrt([np.mean((Y_dict[string][model] - y_test) ** 2) for model in Y_dict[string].columns]),\n",
    "                                           np.full(nb_nan, np.nan)))\n",
    "    return model_std"
   ]
  },
  {
   "cell_type": "code",
   "execution_count": 16,
   "id": "a1474cf5-de37-4acd-8b2e-f7c9850664e9",
   "metadata": {},
   "outputs": [],
   "source": [
    "def calcul_r2(name_models, category_names, Y_dict, y_test, y_train):\n",
    "    model_r2 = pd.DataFrame(data=name_models, columns=['Model'])\n",
    "    for string in category_names:\n",
    "        nb_nan = len(name_models)-len(Y_dict[string].columns)\n",
    "        if(string[-5:]=='train'):\n",
    "            y=y_train\n",
    "        else:\n",
    "            y=y_test\n",
    "        model_r2[string] = np.concatenate(([r2_score(y, Y_dict[string][model]) for model in Y_dict[string].columns],\n",
    "                                           np.full(nb_nan, np.nan)))\n",
    "    return model_r2"
   ]
  },
  {
   "cell_type": "code",
   "execution_count": 141,
   "id": "cd07ac1b-5079-49f2-9917-4380d0946e19",
   "metadata": {},
   "outputs": [],
   "source": [
    "def create_Y_error(Y, y):\n",
    "    Y_error = pd.DataFrame()\n",
    "    for string in Y.columns:\n",
    "        Y_error[string] = (Y[string]-y)\n",
    "    return Y_error"
   ]
  },
  {
   "cell_type": "code",
   "execution_count": 139,
   "id": "f9cb6c3e-725a-417d-8658-d64afe2d920b",
   "metadata": {},
   "outputs": [],
   "source": [
    "def create_Y_error_tot(Y_dict, y):\n",
    "    Y_error_dict = {}\n",
    "    categories = list(Y_dict.keys())\n",
    "    for string in categories:\n",
    "        Y_error_dict[string] = create_Y_error(Y_dict[string], y)\n",
    "    return Y_error_dict"
   ]
  },
  {
   "cell_type": "code",
   "execution_count": 21,
   "id": "20bf26f1-1910-47ee-bdae-5fe76ea9a5b6",
   "metadata": {},
   "outputs": [],
   "source": [
    "def calcul_quantile_df(quantile_prop, Y_dict):\n",
    "    q_df = pd.DataFrame(index=Y_dict[list(Y_dict.keys())[0]].columns)\n",
    "    for string in list(Y_dict.keys()):\n",
    "        q_df[string] = Y_dict[string].quantile(quantile_prop).values\n",
    "    return q_df"
   ]
  },
  {
   "cell_type": "code",
   "execution_count": 22,
   "id": "676ae6f2-c320-4c4b-b005-c963cfe039dd",
   "metadata": {},
   "outputs": [],
   "source": [
    "def calcul_quantile_tot(Y_dict):\n",
    "    q1_df = calcul_quantile_df(0.25, Y_dict)\n",
    "    q3_df = calcul_quantile_df(0.75, Y_dict)\n",
    "    median_df = calcul_quantile_df(0.5, Y_dict)\n",
    "    d1_df = calcul_quantile_df(0.1, Y_dict)\n",
    "    d9_df = calcul_quantile_df(0.9, Y_dict)\n",
    "    return q1_df, q3_df, median_df, d1_df, d9_df"
   ]
  },
  {
   "cell_type": "markdown",
   "id": "43c74f9f-0644-43f3-a3ea-96d5a7873c17",
   "metadata": {
    "jp-MarkdownHeadingCollapsed": true
   },
   "source": [
    "# Importance des features"
   ]
  },
  {
   "cell_type": "code",
   "execution_count": 17,
   "id": "2e0fe1d6-6826-497d-a9e4-285416ca8440",
   "metadata": {},
   "outputs": [],
   "source": [
    "def importance_features_lin(idx_max, feature_importances_df, importance_name, lr_reg, clf_lin_names, clf_dict, features):\n",
    "    idx = np.argsort(np.abs(lr_reg.coef_))[::-1]\n",
    "    features[idx][0:16]\n",
    "    feature_importances_df['baseline'] = feature_importances_df['feature'].isin(features[idx][0:16])\n",
    "    feature_importances_df[importance_name] = feature_importances_df['baseline']\n",
    "    for model in clf_lin_names:\n",
    "        idx = np.argsort(np.abs(clf_dict[model].best_estimator_.coef_))[::-1]\n",
    "        features[idx][0:idx_max]\n",
    "        feature_importances_df[model] = feature_importances_df['feature'].isin(features[idx][0:idx_max])\n",
    "        feature_importances_df[importance_name] = feature_importances_df[[importance_name, model]].sum(axis=1)"
   ]
  },
  {
   "cell_type": "code",
   "execution_count": 18,
   "id": "516e9b34-1aaa-4468-bcc6-a9ea558e2867",
   "metadata": {},
   "outputs": [],
   "source": [
    "def importance_features_nonlin(feature_importances_df, importance_name, clf_nonlin_names, clf_dict, features):\n",
    "    for model in clf_nonlin_names:\n",
    "        features_i = clf_dict[model].best_estimator_.feature_importances_\n",
    "        idx = np.argsort(features_i)[::-1]\n",
    "        \n",
    "        cs = np.cumsum(features_i[idx])\n",
    "        idx_max = next(x[0] for x in enumerate(cs) if x[1] > 0.95)+1\n",
    "        \n",
    "        feature_importances_df[model] = feature_importances_df['feature'].isin(features[idx][0:idx_max])\n",
    "    feature_importances_df[importance_name] = feature_importances_df[clf_nonlin_names].sum(axis=1)"
   ]
  },
  {
   "cell_type": "markdown",
   "id": "772e170e-1a50-402a-b9e9-18f3218ef831",
   "metadata": {
    "jp-MarkdownHeadingCollapsed": true
   },
   "source": [
    "# Représentations"
   ]
  },
  {
   "cell_type": "code",
   "execution_count": 23,
   "id": "64422e3c-5485-401c-a423-b4266a5df3c4",
   "metadata": {},
   "outputs": [],
   "source": [
    "def plot_quantiles(q1_df, q3_df, d1_df, d9_df, median_df):\n",
    "    categories = q1_df.columns\n",
    "    x_dict = {}\n",
    "\n",
    "    bar_width=0.2\n",
    "\n",
    "    fig = plt.figure(figsize=(15,5))\n",
    "\n",
    "    ax=plt.subplot(1,2,1)\n",
    "    i = -len(categories)%2\n",
    "    for string in categories:\n",
    "        x=np.arange(len(q1_df.index))+i*bar_width\n",
    "        ax.bar(x=x, height=q3_df[string]-q1_df[string], bottom=q1_df[string], width=bar_width, label=string)\n",
    "        ax.scatter(x=x, y=median_df[string], color='k', marker='d')\n",
    "        i+=1\n",
    "    ax.axhline(0, color='r', linestyle=':')\n",
    "    ax.set_xticks(x, q1_df.index)\n",
    "    ax.set_axisbelow(True)\n",
    "    ax.grid()\n",
    "    ax.set_title('Quartiles')\n",
    "    plt.legend(loc='upper center', bbox_to_anchor=(0.5, -0.1), ncol=3)\n",
    "\n",
    "    ax=plt.subplot(1,2,2)\n",
    "    i = -len(categories)%2\n",
    "    for string in categories:\n",
    "        x=np.arange(len(d1_df.index))+i*bar_width\n",
    "        ax.bar(x=x, height=d9_df[string]-d1_df[string], bottom=d1_df[string], width=bar_width, label=string)\n",
    "        ax.scatter(x=x, y=median_df[string], color='k', marker='d')\n",
    "        i+=1\n",
    "    ax.axhline(0, color='r', linestyle=':')\n",
    "    ax.set_xticks(x, q1_df.index)\n",
    "    ax.set_axisbelow(True)\n",
    "    ax.grid()\n",
    "    ax.set_title('Déciles')\n",
    "    plt.legend(loc='upper center', bbox_to_anchor=(0.5, -0.1), ncol=3)"
   ]
  },
  {
   "cell_type": "code",
   "execution_count": 1,
   "id": "96ea75df-989c-4185-88f7-b1f631874398",
   "metadata": {},
   "outputs": [],
   "source": [
    "def plot_boxplot(q1_df, q3_df, d1_df, d9_df, median_df, ax):\n",
    "    categories = q1_df.columns\n",
    "    \n",
    "    bar_width=0.2\n",
    "\n",
    "    i = 0\n",
    "    for string in categories:\n",
    "        x=np.arange(len(q1_df.index))+(i-len(categories)%2)*bar_width\n",
    "        ax.bar(x=x, height=q3_df[string]-q1_df[string], bottom=q1_df[string], width=bar_width,\n",
    "               color=list(colors.TABLEAU_COLORS.values())[i], label=string+'_quartiles')\n",
    "        ax.scatter(x=x, y=median_df[string], color='k', marker='d')\n",
    "        ax.scatter(x=x, y=d1_df[string], marker='+', color=list(colors.TABLEAU_COLORS.values())[i], label=string+'_deciles')\n",
    "        ax.scatter(x=x, y=d9_df[string], marker='+', color=list(colors.TABLEAU_COLORS.values())[i])\n",
    "        i+=1\n",
    "    ax.axhline(0, color='r', linestyle=':')\n",
    "    ax.set_xticks(np.arange(len(q1_df.index)), q1_df.index)\n",
    "    ax.set_axisbelow(True)\n",
    "    ax.grid()\n",
    "    ax.set_title('Quartiles et déciles des erreurs')\n",
    "    plt.legend(loc='upper center', bbox_to_anchor=(0.5, -0.1), ncol=3)"
   ]
  },
  {
   "cell_type": "code",
   "execution_count": 4,
   "id": "ae3e1b69-b36b-4cbc-9e15-4241a0f00adc",
   "metadata": {},
   "outputs": [],
   "source": [
    "def plot_RMSE_boxplot(y, std_df, study_list, q1_df, q3_df, d1_df, d9_df, median_df):\n",
    "    fig = plt.figure(figsize=(15,5))\n",
    "\n",
    "    ax=plt.subplot(1,2,1)\n",
    "    std_df.plot(ax=ax, kind='bar', x='Model', y=study_list, rot=0)\n",
    "    ax.axhline(np.nanmin(std_df[study_list].values), color='r', linestyle=':')\n",
    "    ax.axhline(np.std(y), color='k', linestyle=':')\n",
    "    ax.set_title('RMSE')\n",
    "    plt.legend(loc='upper center', bbox_to_anchor=(0.5, -0.1), ncol=3)\n",
    "\n",
    "    ax=plt.subplot(1,2,2)\n",
    "    plot_boxplot(q1_df, q3_df, d1_df, d9_df, median_df, ax)"
   ]
  },
  {
   "cell_type": "code",
   "execution_count": 3,
   "id": "e58365c8-f29b-4763-93db-27c36a6c3337",
   "metadata": {},
   "outputs": [],
   "source": [
    "def plot_r2(r2_df, study_list, train_list, ax):\n",
    "    bar_width = 0.2\n",
    "    r2_df.plot(ax=ax, kind='bar', x='Model', y=study_list, width=len(train_list)*bar_width, rot=0)\n",
    "    i=0\n",
    "    for string in train_list:\n",
    "        ax.scatter(x=np.arange(len(r2_df['Model']))+(i-len(train_list)%2)*bar_width, y=r2_df[string],\n",
    "                   marker='d', color=list(colors.TABLEAU_COLORS.values())[i], edgecolor='k', label=string)\n",
    "        i+=1\n",
    "    ax.axhline(np.max(r2_df[study_list].values), color='r', linestyle=':')\n",
    "    ax.set_title('r2 Modèle complet et réduit')\n",
    "    plt.legend(loc='upper center', bbox_to_anchor=(0.5, -0.1), ncol=3)"
   ]
  },
  {
   "cell_type": "code",
   "execution_count": 25,
   "id": "7a5d6ed5-3630-40d7-816e-5a1f3d3f7743",
   "metadata": {},
   "outputs": [],
   "source": [
    "def plot_RMSE_R2(std_df, r2_df, study_list, train_list):\n",
    "    fig = plt.figure(figsize=(15,5))\n",
    "\n",
    "    ax=plt.subplot(1,2,1)\n",
    "    std_df.plot(ax=ax, kind='bar', x='Model', y=study_list, rot=0)\n",
    "    ax.axhline(np.min(std_df[study_list].values), color='r', linestyle=':')\n",
    "    ax.set_title('RMSE')\n",
    "    plt.legend(loc='upper center', bbox_to_anchor=(0.5, -0.1), ncol=3)\n",
    "    \n",
    "    ax=plt.subplot(1,2,2)\n",
    "    plot_r2(r2_df, study_list, train_list, ax)"
   ]
  },
  {
   "cell_type": "code",
   "execution_count": 26,
   "id": "19204d34-eb60-4ad8-a7c5-4a0c0f433551",
   "metadata": {},
   "outputs": [],
   "source": [
    "def plot_compare(stats_df, compare_list1, compare_list2, title1, title2):\n",
    "    fig = plt.figure(figsize=(15,5))\n",
    "    \n",
    "    ax=plt.subplot(1,2,1)\n",
    "    stats_df.plot(ax=ax, kind='barh', x='Model', y=compare_list1)\n",
    "    ax.set_title(title1)\n",
    "    \n",
    "    ax=plt.subplot(1,2,2)\n",
    "    stats_df.plot(ax=ax, kind='barh', x='Model', y=compare_list2)\n",
    "    ax.set_title(title2)"
   ]
  }
 ],
 "metadata": {
  "kernelspec": {
   "display_name": "Python 3 (ipykernel)",
   "language": "python",
   "name": "python3"
  },
  "language_info": {
   "codemirror_mode": {
    "name": "ipython",
    "version": 3
   },
   "file_extension": ".py",
   "mimetype": "text/x-python",
   "name": "python",
   "nbconvert_exporter": "python",
   "pygments_lexer": "ipython3",
   "version": "3.11.5"
  }
 },
 "nbformat": 4,
 "nbformat_minor": 5
}
